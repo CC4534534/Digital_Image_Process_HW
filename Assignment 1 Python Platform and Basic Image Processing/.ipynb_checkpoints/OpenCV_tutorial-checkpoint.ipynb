{
  "cells": [
    {
      "cell_type": "markdown",
      "metadata": {
        "id": "xEn8P9EOLhoD"
      },
      "source": [
        "#**Assignment #1. OpenCV Tutorial** [![Open In Colab](https://colab.research.google.com/assets/colab-badge.svg)](https://colab.research.google.com/github/YoniChechik/AI_is_Math/blob/master/c_01_intro_to_CV_and_Python/OpenCV_tutorial.ipynb)\n",
        "\n",
        "OpenCV (Open Source Computer Vision Library) The OpenCV project was initially an Intel Research initiative to advance CPU-intensive applications. Officially launched in 1999. OpenCV is an open source computer vision and machine learning software library. OpenCV was built to provide a common infrastructure for computer vision applications and to accelerate the use of machine perception in the commercial products.\n",
        "[https://opencv.org/about/]\n",
        "\n",
        "**Free OpenCV course**: https://opencv.org/university/free-opencv-course/?utm_source=opcv&utm_medium=menu&utm_campaign=obc\n",
        "\n",
        "**More OpenCV functions**: https://github.com/BhanuPrakashNani/Image_Processing"
      ]
    },
    {
      "cell_type": "code",
      "execution_count": null,
      "metadata": {
        "execution": {
          "iopub.execute_input": "2024-02-01T11:37:15.302964Z",
          "iopub.status.busy": "2024-02-01T11:37:15.302762Z",
          "iopub.status.idle": "2024-02-01T11:37:15.481773Z",
          "shell.execute_reply": "2024-02-01T11:37:15.481138Z"
        },
        "id": "8IgEU2vDLhoI"
      },
      "outputs": [],
      "source": [
        "import cv2  # opencv for python package\n",
        "import matplotlib.pyplot as plt\n",
        "import os"
      ]
    },
    {
      "cell_type": "code",
      "source": [
        "#Mount your google drive\n",
        "from google.colab import drive\n",
        "drive.mount('/content/drive')\n",
        "\n",
        "#change the directory\n",
        "os.chdir('/content/drive/MyDrive/Colab Notebooks/Image Processing/images')"
      ],
      "metadata": {
        "colab": {
          "base_uri": "https://localhost:8080/"
        },
        "id": "x0zPGsEfWDke",
        "outputId": "ddd18d2c-ce10-4a1d-bf41-79d68aa35ed3"
      },
      "execution_count": null,
      "outputs": [
        {
          "output_type": "stream",
          "name": "stdout",
          "text": [
            "Mounted at /content/drive\n"
          ]
        }
      ]
    },
    {
      "cell_type": "markdown",
      "metadata": {
        "id": "Dm7ZSFbJLhoL"
      },
      "source": [
        "### **PartA. Read and Plot an Image**\n",
        "\n",
        "1. Read and plot an image with OpenCV."
      ]
    },
    {
      "cell_type": "code",
      "execution_count": null,
      "metadata": {
        "execution": {
          "iopub.execute_input": "2024-02-01T11:37:15.493551Z",
          "iopub.status.busy": "2024-02-01T11:37:15.493445Z",
          "iopub.status.idle": "2024-02-01T11:37:15.799031Z",
          "shell.execute_reply": "2024-02-01T11:37:15.798583Z"
        },
        "id": "X5B90y50LhoN"
      },
      "outputs": [],
      "source": [
        "img=cv2.imread(\"Lenna.png\")\n",
        "plt.figure(figsize=(4,4))\n",
        "plt.imshow(img)\n",
        "plt.title(\"Lenna orig\")\n",
        "plt.show()"
      ]
    },
    {
      "cell_type": "markdown",
      "metadata": {
        "id": "sMYYnjmtLhoO"
      },
      "source": [
        "We got a weird image colors... This is because OpenCV uses image reading convention of BGR and matplotlib uses RGB.\n",
        "\n",
        "The fix is easy:\n",
        "\n",
        "\n"
      ]
    },
    {
      "cell_type": "code",
      "execution_count": null,
      "metadata": {
        "execution": {
          "iopub.execute_input": "2024-02-01T11:37:15.816842Z",
          "iopub.status.busy": "2024-02-01T11:37:15.816748Z",
          "iopub.status.idle": "2024-02-01T11:37:16.099682Z",
          "shell.execute_reply": "2024-02-01T11:37:16.099300Z"
        },
        "id": "q-F5hUhSLhoP"
      },
      "outputs": [],
      "source": [
        "img=cv2.cvtColor(img,cv2.COLOR_BGR2RGB)\n",
        "plt.figure(figsize=(4,4))\n",
        "plt.imshow(img)\n",
        "plt.title(\"Lenna RGB\")\n",
        "plt.show()\n",
        "\n",
        "# some image info:\n",
        "print(type(img))\n",
        "print(img.shape)"
      ]
    },
    {
      "cell_type": "markdown",
      "source": [
        "2. Show the channels of a color image. A color image contains R, G, B channels. Learn to show each channel."
      ],
      "metadata": {
        "id": "9e0f6gzLkXcp"
      }
    },
    {
      "cell_type": "code",
      "execution_count": null,
      "metadata": {
        "execution": {
          "iopub.execute_input": "2024-02-01T11:37:16.109941Z",
          "iopub.status.busy": "2024-02-01T11:37:16.109791Z",
          "iopub.status.idle": "2024-02-01T11:37:16.318014Z",
          "shell.execute_reply": "2024-02-01T11:37:16.317657Z"
        },
        "id": "P1lWxT-ALhoQ"
      },
      "outputs": [],
      "source": [
        "# show the R, G, and B channels\n",
        "fig,ax_arr=plt.subplots(1,3,figsize=(12,4))\n",
        "ax_arr[0].imshow(img[:,:,0],cmap='gray')\n",
        "ax_arr[0].set_title(\"Red-channel image\")\n",
        "ax_arr[1].imshow(img[:,:,1],cmap='gray')\n",
        "ax_arr[1].set_title(\"Green-channel image\")\n",
        "ax_arr[2].imshow(img[:,:,2],cmap='gray')\n",
        "ax_arr[2].set_title(\"Blue-channel image\")\n",
        "plt.show()"
      ]
    },
    {
      "cell_type": "code",
      "execution_count": null,
      "metadata": {
        "execution": {
          "iopub.execute_input": "2024-02-01T11:37:16.321009Z",
          "iopub.status.busy": "2024-02-01T11:37:16.320928Z",
          "iopub.status.idle": "2024-02-01T11:37:16.448147Z",
          "shell.execute_reply": "2024-02-01T11:37:16.447797Z"
        },
        "id": "kM1vURpFLhoR"
      },
      "outputs": [],
      "source": [
        "# gray color-mapping\n",
        "fig,ax_arr=plt.subplots(1,2,figsize=(8,4))\n",
        "\n",
        "#ax_arr[0].imshow(img[:,:,0], cmap=\"gray\")\n",
        "ax_arr[0].imshow(img[:,:,0], cmap=\"gray\")\n",
        "ax_arr[0].set_title(\"Auto-adjusted pixel\\n scale intensity\")\n",
        "\n",
        "ax_arr[1].imshow(img[:,:,0], cmap=\"gray\", vmin=0, vmax=255)\n",
        "ax_arr[1].set_title(\"Absolute pixel\\n scale intensity\")\n",
        "plt.show()"
      ]
    },
    {
      "cell_type": "markdown",
      "metadata": {
        "id": "EfgA_hkELhoR"
      },
      "source": [
        "### **Part B. Advanced Image Processing Functions**\n",
        "\n",
        "1. **Image blurring**. Apply an average filtering to the image.\n",
        "2. **Edge detection.**. Apply Canny edge decteion to the image.\n",
        "3. **Circle detection**. Apply Hough transform to the image.\n"
      ]
    },
    {
      "cell_type": "code",
      "execution_count": null,
      "metadata": {
        "execution": {
          "iopub.execute_input": "2024-02-01T11:37:16.449828Z",
          "iopub.status.busy": "2024-02-01T11:37:16.449738Z",
          "iopub.status.idle": "2024-02-01T11:37:16.609082Z",
          "shell.execute_reply": "2024-02-01T11:37:16.608759Z"
        },
        "id": "qgudJUkPLhoR"
      },
      "outputs": [],
      "source": [
        "# image blurring\n",
        "img_blurred=cv2.blur(img,(15,15))  # use a 15x15 average kernel\n",
        "fig,ax_arr=plt.subplots(1, 2, figsize=(10,10))\n",
        "ax_arr[0].imshow(img)\n",
        "ax_arr[0].set_title(\"Original Image\")\n",
        "ax_arr[1].imshow(img_blurred)\n",
        "ax_arr[1].set_title(\"Blurred Image\")\n",
        "plt.show()"
      ]
    },
    {
      "cell_type": "code",
      "execution_count": null,
      "metadata": {
        "execution": {
          "iopub.execute_input": "2024-02-01T11:37:16.610703Z",
          "iopub.status.busy": "2024-02-01T11:37:16.610612Z",
          "iopub.status.idle": "2024-02-01T11:37:16.708617Z",
          "shell.execute_reply": "2024-02-01T11:37:16.708252Z"
        },
        "id": "suYqhJteLhoS"
      },
      "outputs": [],
      "source": [
        "# edge detection\n",
        "img_canny=cv2.Canny(img,180,200)  # end args are the lower & upper TH of hysteresis\n",
        "\n",
        "fig,ax_arr=plt.subplots(1, 2, figsize=(10,10))\n",
        "ax_arr[0].imshow(img)\n",
        "ax_arr[0].set_title(\"Original Image\")\n",
        "ax_arr[1].imshow(img_canny)\n",
        "ax_arr[1].set_title(\"Canny Edge Detection\")\n",
        "plt.show()"
      ]
    },
    {
      "cell_type": "code",
      "execution_count": null,
      "metadata": {
        "execution": {
          "iopub.execute_input": "2024-02-01T11:37:16.710368Z",
          "iopub.status.busy": "2024-02-01T11:37:16.710289Z",
          "iopub.status.idle": "2024-02-01T11:37:16.806870Z",
          "shell.execute_reply": "2024-02-01T11:37:16.806517Z"
        },
        "id": "4K5qvgVNLhoS"
      },
      "outputs": [],
      "source": [
        "# detect circles\n",
        "img_logo=cv2.imread(\"Opencv_logo.png\")\n",
        "img_logo=cv2.cvtColor(img_logo, cv2.COLOR_BGR2RGB)\n",
        "\n",
        "fig,ax_arr=plt.subplots(1, 2, figsize=(10,10))\n",
        "ax_arr[0].imshow(img_logo)\n",
        "ax_arr[0].set_title(\"OpenCV Logo\")\n",
        "\n",
        "img_gray=cv2.cvtColor(img_logo,cv2.COLOR_RGB2GRAY)\n",
        "circles=cv2.HoughCircles(img_gray, cv2.HOUGH_GRADIENT, 0.1, 50, param1=50, param2=38)\n",
        "for x, y, r in circles[0, :]:\n",
        "    # draw the outer circle\n",
        "    cv2.circle(img_logo, (int(x), int(y)), int(r), (0, 0, 0), 2)\n",
        "    # draw the center of the circle\n",
        "    cv2.circle(img_logo, (int(x), int(y)), 2, (0, 0, 255), 3)\n",
        "\n",
        "ax_arr[1].imshow(img_logo)\n",
        "ax_arr[1].set_title(\"finding circles\")\n",
        "plt.show()"
      ]
    },
    {
      "cell_type": "markdown",
      "source": [
        "### **Part C. Basic Image Processing Implementation**\n",
        "Implement the following image processing functions  using CV2 with the aids of Germini.\n",
        "\n",
        "*   Image thresholding\n",
        "*   Image histogram\n",
        "\n"
      ],
      "metadata": {
        "id": "frPeqF4LQ48a"
      }
    }
  ],
  "metadata": {
    "language_info": {
      "name": "python"
    },
    "colab": {
      "provenance": []
    },
    "kernelspec": {
      "name": "python3",
      "display_name": "Python 3"
    }
  },
  "nbformat": 4,
  "nbformat_minor": 0
}